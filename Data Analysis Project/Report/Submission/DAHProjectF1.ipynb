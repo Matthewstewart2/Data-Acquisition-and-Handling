{
 "cells": [
  {
   "cell_type": "code",
   "execution_count": null,
   "metadata": {},
   "outputs": [],
   "source": [
    "# Project F1\n",
    "# Run all cells at once if possible because variable x gets renamed several times so won't work if cells are run out of order"
   ]
  },
  {
   "cell_type": "code",
   "execution_count": 38,
   "metadata": {},
   "outputs": [],
   "source": [
    "import numpy as np\n",
    "import matplotlib.pyplot as plt\n",
    "import pandas as pd\n",
    "from scipy import stats\n",
    "from scipy.optimize import minimize\n",
    "from scipy.integrate import quad"
   ]
  },
  {
   "cell_type": "code",
   "execution_count": 39,
   "metadata": {},
   "outputs": [],
   "source": [
    "def get_list(xdata, nevent, index):\n",
    "    # split full data into list for one variable\n",
    "    list = []\n",
    "    for i in range(0, int(nevent)):\n",
    "        list.append(xdata[i][index])\n",
    "    \n",
    "    return list"
   ]
  },
  {
   "cell_type": "code",
   "execution_count": 40,
   "metadata": {},
   "outputs": [],
   "source": [
    "def make_subplot(i, j, xlabel, data, bins, colour):\n",
    "    # return ax object to plot on subplot grid\n",
    "    ax = plt.subplot2grid((2,3), (i,j), rowspan=1, colspan=1)\n",
    "    ax.set_xlabel(xlabel)\n",
    "    ax.set_ylabel('Frequency')\n",
    "    hist, bins, p = ax.hist(data, bins=bins, color=colour)\n",
    "    \n",
    "    return ax, hist, bins"
   ]
  },
  {
   "cell_type": "code",
   "execution_count": 41,
   "metadata": {},
   "outputs": [],
   "source": [
    "def get_max(hist, bins):\n",
    "    # simple pleak finder for bin entry with most entries\n",
    "    imax = np.where(hist == max(hist))[0][0]\n",
    "    m = bins[imax]\n",
    "    \n",
    "    return m"
   ]
  },
  {
   "cell_type": "code",
   "execution_count": 42,
   "metadata": {},
   "outputs": [],
   "source": [
    "def sideband_sub(mass_series, m, sig_width, sep):\n",
    "    # sideband subtraction return number of signal events in region\n",
    "    lower_bound = m - 0.5 * sig_width\n",
    "    upper_bound = m + 0.5 * sig_width\n",
    "    sig_region = mass_series[(mass_series > lower_bound) & (mass_series < upper_bound)]\n",
    "    region_events = sig_region.size\n",
    "    \n",
    "    sideband_width = 0.5 * sig_width\n",
    "    bg_lower_bound1 = m - sep - sideband_width\n",
    "    bg_upper_bound1 = m - sep\n",
    "    bg_lower_bound2 = m + sep\n",
    "    bg_upper_bound2 = m + sep + sideband_width\n",
    "    bg_events1 = mass_series[(mass_series > bg_lower_bound1) & (mass_series < bg_upper_bound1)]\n",
    "    bg_events2 = mass_series[(mass_series > bg_lower_bound2) & (mass_series < bg_upper_bound2)]\n",
    "    bg_events = bg_events1.size + bg_events2.size\n",
    "    \n",
    "    sig_events = region_events - bg_events\n",
    "    \n",
    "    return sig_events"
   ]
  },
  {
   "cell_type": "code",
   "execution_count": 104,
   "metadata": {},
   "outputs": [
    {
     "name": "stdout",
     "output_type": "stream",
     "text": [
      "[  9.473305    5.279369    4.054099  152.1793      3.7385848   7.0808444]\n"
     ]
    }
   ],
   "source": [
    "# import data\n",
    "f = open(\"ups-15-small.bin\", \"r\")\n",
    "datalist = np.fromfile(f, dtype=np.float32)\n",
    "\n",
    "# number of events\n",
    "nevent = len(datalist) / 6\n",
    "xdata = np.split(datalist, nevent)\n",
    "print(xdata[0])\n",
    "\n",
    "# make list of invariant mass of events\n",
    "mass_list = get_list(xdata, nevent, 0)\n",
    "tp_pair_list = get_list(xdata, nevent, 1)\n",
    "rap_list = get_list(xdata, nevent, 2)\n",
    "p_pair_list = get_list(xdata, nevent, 3)\n",
    "tp1_list = get_list(xdata, nevent, 4)\n",
    "tp2_list = get_list(xdata, nevent, 5)"
   ]
  },
  {
   "cell_type": "code",
   "execution_count": 108,
   "metadata": {},
   "outputs": [],
   "source": [
    "# pandas dataframe\n",
    "df = pd.DataFrame({\n",
    "    'mass': mass_list,\n",
    "    'tp pair': tp_pair_list,\n",
    "    'rap': rap_list,\n",
    "    'p pair': p_pair_list,\n",
    "    'tp1': tp1_list,\n",
    "    'tp2': tp2_list,\n",
    "})\n",
    "\n",
    "# clean outliers with z-score\n",
    "df = df[(np.abs(stats.zscore(df)) < 3).all(axis=1)]"
   ]
  },
  {
   "cell_type": "code",
   "execution_count": 109,
   "metadata": {},
   "outputs": [
    {
     "data": {
      "text/html": [
       "<div>\n",
       "<style scoped>\n",
       "    .dataframe tbody tr th:only-of-type {\n",
       "        vertical-align: middle;\n",
       "    }\n",
       "\n",
       "    .dataframe tbody tr th {\n",
       "        vertical-align: top;\n",
       "    }\n",
       "\n",
       "    .dataframe thead th {\n",
       "        text-align: right;\n",
       "    }\n",
       "</style>\n",
       "<table border=\"1\" class=\"dataframe\">\n",
       "  <thead>\n",
       "    <tr style=\"text-align: right;\">\n",
       "      <th></th>\n",
       "      <th>mass</th>\n",
       "      <th>tp pair</th>\n",
       "      <th>rap</th>\n",
       "      <th>p pair</th>\n",
       "      <th>tp1</th>\n",
       "      <th>tp2</th>\n",
       "    </tr>\n",
       "  </thead>\n",
       "  <tbody>\n",
       "    <tr>\n",
       "      <td>0</td>\n",
       "      <td>9.473305</td>\n",
       "      <td>5.279369</td>\n",
       "      <td>4.054099</td>\n",
       "      <td>152.179306</td>\n",
       "      <td>3.738585</td>\n",
       "      <td>7.080844</td>\n",
       "    </tr>\n",
       "    <tr>\n",
       "      <td>1</td>\n",
       "      <td>9.812292</td>\n",
       "      <td>7.250655</td>\n",
       "      <td>3.913863</td>\n",
       "      <td>181.672607</td>\n",
       "      <td>2.996603</td>\n",
       "      <td>4.724026</td>\n",
       "    </tr>\n",
       "    <tr>\n",
       "      <td>2</td>\n",
       "      <td>9.564719</td>\n",
       "      <td>4.831397</td>\n",
       "      <td>3.033560</td>\n",
       "      <td>50.292870</td>\n",
       "      <td>7.580468</td>\n",
       "      <td>2.939981</td>\n",
       "    </tr>\n",
       "    <tr>\n",
       "      <td>3</td>\n",
       "      <td>10.440112</td>\n",
       "      <td>6.845929</td>\n",
       "      <td>3.971565</td>\n",
       "      <td>181.712784</td>\n",
       "      <td>3.264303</td>\n",
       "      <td>6.338173</td>\n",
       "    </tr>\n",
       "    <tr>\n",
       "      <td>4</td>\n",
       "      <td>10.752894</td>\n",
       "      <td>1.928041</td>\n",
       "      <td>5.350344</td>\n",
       "      <td>203.105118</td>\n",
       "      <td>4.387239</td>\n",
       "      <td>6.128740</td>\n",
       "    </tr>\n",
       "  </tbody>\n",
       "</table>\n",
       "</div>"
      ],
      "text/plain": [
       "        mass   tp pair       rap      p pair       tp1       tp2\n",
       "0   9.473305  5.279369  4.054099  152.179306  3.738585  7.080844\n",
       "1   9.812292  7.250655  3.913863  181.672607  2.996603  4.724026\n",
       "2   9.564719  4.831397  3.033560   50.292870  7.580468  2.939981\n",
       "3  10.440112  6.845929  3.971565  181.712784  3.264303  6.338173\n",
       "4  10.752894  1.928041  5.350344  203.105118  4.387239  6.128740"
      ]
     },
     "execution_count": 109,
     "metadata": {},
     "output_type": "execute_result"
    }
   ],
   "source": [
    "# column headers\n",
    "df.head()"
   ]
  },
  {
   "cell_type": "code",
   "execution_count": 110,
   "metadata": {},
   "outputs": [
    {
     "name": "stdout",
     "output_type": "stream",
     "text": [
      "<class 'pandas.core.frame.DataFrame'>\n",
      "Int64Index: 927224 entries, 0 to 936698\n",
      "Data columns (total 6 columns):\n",
      "mass       927224 non-null float64\n",
      "tp pair    927224 non-null float64\n",
      "rap        927224 non-null float64\n",
      "p pair     927224 non-null float64\n",
      "tp1        927224 non-null float64\n",
      "tp2        927224 non-null float64\n",
      "dtypes: float64(6)\n",
      "memory usage: 49.5 MB\n"
     ]
    }
   ],
   "source": [
    "# overview of the data\n",
    "df.info()"
   ]
  },
  {
   "cell_type": "code",
   "execution_count": 47,
   "metadata": {},
   "outputs": [
    {
     "data": {
      "image/png": "[encoded data removed]",
      "text/plain": [
       "<Figure size 1728x576 with 6 Axes>"
      ]
     },
     "metadata": {
      "needs_background": "light"
     },
     "output_type": "display_data"
    }
   ],
   "source": [
    "# plot histograms of six variables\n",
    "plt.figure(figsize=(24, 8))\n",
    "bins = 500\n",
    "\n",
    "ax1, hist1, bins1 = make_subplot(0, 0, 'Invariant mass of muon pair / GeV/$c^2$', df['mass'], bins, 'blue')\n",
    "ax2, hist2, bins2 = make_subplot(0, 1, '$p_{\\perp}$ of muon pair / GeV/c', df['tp pair'], bins, 'blue')\n",
    "ax3, hist3, bins3 = make_subplot(0, 2, '$\\eta$ of muon pair', df['rap'], bins, 'blue')\n",
    "ax4, hist4, bins4 = make_subplot(1, 0, 'p of muon pair / GeV/c', df['p pair'], bins, 'blue')\n",
    "ax5, hist5, bins5 = make_subplot(1, 1, 'pt of first muon / GeV/c', df['tp1'], bins, 'blue')\n",
    "ax6, hist6, bins6 = make_subplot(1, 2, 'pt of second muon / GeV/c', df['tp2'], bins, 'blue')\n",
    "\n",
    "plt.suptitle('Histograms')\n",
    "plt.show()"
   ]
  },
  {
   "cell_type": "code",
   "execution_count": 111,
   "metadata": {},
   "outputs": [],
   "source": [
    "# split mass spectrum into peak regions by eye\n",
    "i1 = np.where(bins1 < 9.3)[0][-1]\n",
    "i2 = np.where(bins1 < 9.62)[0][-1]\n",
    "i3 = np.where(bins1 < 9.8)[0][-1]\n",
    "i4 = np.where(bins1 < 10.12)[0][-1]\n",
    "i5 = np.where(bins1 < 10.25)[0][-1]\n",
    "i6 = np.where(bins1 < 10.5)[0][-1]\n",
    "\n",
    "mbins_arrays = np.split(bins1, np.array([i1, i2, i3, i4, i5, i6]))\n",
    "mhist_arrays = np.split(hist1, np.array([i1, i2, i3, i4, i5, i6]))\n",
    "\n",
    "mbins1 = mbins_arrays[1]\n",
    "mbins2 = mbins_arrays[3] \n",
    "mbins3 = mbins_arrays[5]\n",
    "\n",
    "mhist1 = mhist_arrays[1]\n",
    "mhist2 = mhist_arrays[3] \n",
    "mhist3 = mhist_arrays[5]"
   ]
  },
  {
   "cell_type": "code",
   "execution_count": 112,
   "metadata": {},
   "outputs": [
    {
     "name": "stdout",
     "output_type": "stream",
     "text": [
      "9.451998582839966\n",
      "10.011995645523072\n",
      "10.3519938621521\n"
     ]
    }
   ],
   "source": [
    "# find peak positions with simple function\n",
    "m1 = get_max(mhist1, mbins1)\n",
    "m2 = get_max(mhist2, mbins2)\n",
    "m3 = get_max(mhist3, mbins3)\n",
    "\n",
    "print(m1)\n",
    "print(m2)\n",
    "print(m3)\n",
    "\n",
    "m_diff2 = m2 - m1\n",
    "m_diff3 = m3 - m1"
   ]
  },
  {
   "cell_type": "code",
   "execution_count": 113,
   "metadata": {},
   "outputs": [
    {
     "data": {
      "image/png": "[encoded data removed]",
      "text/plain": [
       "<Figure size 432x288 with 1 Axes>"
      ]
     },
     "metadata": {
      "needs_background": "light"
     },
     "output_type": "display_data"
    },
    {
     "name": "stdout",
     "output_type": "stream",
     "text": [
      "FWHM1 = 0.096, by visual inspection.\n",
      "Resolution = 0.041, assuming gaussian form.\n"
     ]
    }
   ],
   "source": [
    "# estimate FWHM by visual inspection of histogram to help guess paramters in fitting later\n",
    "hist_temp, bins_temp, p = plt.hist(df['mass'], bins=1000)\n",
    "\n",
    "plt.xlabel('Invariant mass of muon pair / GeV/$c^2$')\n",
    "plt.ylabel('Frequency')\n",
    "plt.xlim(9.3, 9.62)\n",
    "plt.hlines(2000, 9.3, 9.62, colors='red')\n",
    "plt.vlines([9.407, 9.503], 0, 3000, colors='lime')\n",
    "plt.show()\n",
    "\n",
    "FWHM1 = 9.503 - 9.407\n",
    "res1 = FWHM1 / 2.355\n",
    "print('FWHM1 = ' + str(round(FWHM1, 3)) + ', by visual inspection.')\n",
    "print('Resolution = ' + str(round(res1, 3)) + ', assuming gaussian form.')"
   ]
  },
  {
   "cell_type": "code",
   "execution_count": 114,
   "metadata": {},
   "outputs": [],
   "source": [
    "# estimate nuber of signal events in region to help guess paramters in fitting later\n",
    "mass_series = df['mass']\n",
    "sig_width = 300 / 1000\n",
    "sep = 0.4\n",
    "\n",
    "sig_events1 = sideband_sub(mass_series, m1, sig_width, sep)"
   ]
  },
  {
   "cell_type": "code",
   "execution_count": 117,
   "metadata": {},
   "outputs": [],
   "source": [
    "# functions for fitting single peaks\n",
    "def comp_func2(x, sigma, mu, lam, a):\n",
    "    # function not used but is option to do normalisation of exp by numerical integration\n",
    "    #print(str(sigma) + ' ' + str(mu) + ' ' + str(lam) + ' ' + str(a))\n",
    "    gaussian = np.exp(-0.5*((x-mu)/sigma)**2)\n",
    "    exponential = np.exp(-1*lam*x)\n",
    "    N = quad(comp_func, np.amin(x), np.amax(x), args=(sigma, mu, lam, a))[0]\n",
    "    func = (1/N) * (a * gaussian + (1 - a) * exponential)\n",
    "    return func"
   ]
  },
  {
   "cell_type": "code",
   "execution_count": 118,
   "metadata": {},
   "outputs": [],
   "source": [
    "def comp_func3(x, sigma, mu, lam, a):\n",
    "    # function to return normalised over x composite PDF\n",
    "    gaussian = (1/(sigma*(2*np.pi)**0.5)) * np.exp(-0.5*((x-mu)/sigma)**2)\n",
    "    exponential = (-lam / (np.exp(-1*lam*np.amax(x)) - np.exp(-1*lam*np.amin(x)))) * np.exp(-1*lam*x)\n",
    "    func = a * gaussian + (1 - a) * exponential\n",
    "    return func"
   ]
  },
  {
   "cell_type": "code",
   "execution_count": 119,
   "metadata": {},
   "outputs": [],
   "source": [
    "def get_NLL(params):\n",
    "    # return negative log likelihood for sample data x\n",
    "    sigma, mu, lam, a = params[0], params[1], params[2], params[3]\n",
    "    p_given_params = comp_func3(x, sigma, mu, lam, a)\n",
    "    #p_given_params = (1/(sigma*(2*np.pi)**0.5)) * np.exp(-0.5*((x-mu)/sigma)**2)\n",
    "\n",
    "    NLL = -np.sum(np.log(p_given_params))\n",
    "    \n",
    "    return NLL"
   ]
  },
  {
   "cell_type": "code",
   "execution_count": null,
   "metadata": {},
   "outputs": [],
   "source": [
    "m1_series = mass_series[(mass_series > 9.30) & (mass_series < 9.60)]\n",
    "x = np.array(m1_series)"
   ]
  },
  {
   "cell_type": "code",
   "execution_count": 127,
   "metadata": {},
   "outputs": [
    {
     "name": "stdout",
     "output_type": "stream",
     "text": [
      "Warning: Desired error not necessarily achieved due to precision loss.\n",
      "         Current function value: -335819.236838\n",
      "         Iterations: 29\n",
      "         Function evaluations: 319\n",
      "         Gradient evaluations: 53\n"
     ]
    },
    {
     "data": {
      "text/plain": [
       "      fun: -335819.23683828407\n",
       " hess_inv: array([[ 2.75851830e-08, -1.04806409e-08, -4.51351904e-08,\n",
       "         2.57043090e-08],\n",
       "       [-1.04806409e-08,  6.25066090e-08,  1.05539526e-07,\n",
       "        -1.39728094e-08],\n",
       "       [-4.51351904e-08,  1.05539526e-07,  6.18268758e-07,\n",
       "        -2.03879066e-07],\n",
       "       [ 2.57043090e-08, -1.39728094e-08, -2.03879066e-07,\n",
       "         5.69214657e-07]])\n",
       "      jac: array([0.00390625, 0.01171875, 0.00390625, 0.0078125 ])\n",
       "  message: 'Desired error not necessarily achieved due to precision loss.'\n",
       "     nfev: 319\n",
       "      nit: 29\n",
       "     njev: 53\n",
       "   status: 2\n",
       "  success: False\n",
       "        x: array([0.03991744, 9.45703094, 0.81780971, 0.37400749])"
      ]
     },
     "execution_count": 127,
     "metadata": {},
     "output_type": "execute_result"
    }
   ],
   "source": [
    "# fit for first peak region\n",
    "guess = np.array([0.03991755, 9.45703085, 0.81777866, 0.37400712])\n",
    "results = minimize(get_NLL, guess, method='BFGS', options={'disp': True})\n",
    "results\n",
    "# hess_inv diagonals give square of parameter errors"
   ]
  },
  {
   "cell_type": "code",
   "execution_count": 128,
   "metadata": {},
   "outputs": [
    {
     "data": {
      "text/plain": [
       "[<matplotlib.lines.Line2D at 0x2569ba945c0>]"
      ]
     },
     "execution_count": 128,
     "metadata": {},
     "output_type": "execute_result"
    },
    {
     "data": {
      "image/png": "[encoded data removed]",
      "text/plain": [
       "<Figure size 432x288 with 1 Axes>"
      ]
     },
     "metadata": {
      "needs_background": "light"
     },
     "output_type": "display_data"
    }
   ],
   "source": [
    "# plot best-estimate PDF on top of normalised histogram\n",
    "hist, bins, p = plt.hist(x, bins=100, density=True)\n",
    "sigmaf = results.x[0]\n",
    "muf = results.x[1]\n",
    "lamf = results.x[2]\n",
    "af = results.x[3]\n",
    "x_min = np.amin(x)\n",
    "x_max = np.amax(x)\n",
    "x_trial = np.linspace(x_min, x_max, 100)\n",
    "y = comp_func3(x_trial, sigmaf, muf, lamf, af)\n",
    "plt.xlabel('Invariant mass of muon pair / GeV/$c^2$')\n",
    "plt.ylabel('P')\n",
    "plt.plot(x_trial, y, c='r')"
   ]
  },
  {
   "cell_type": "code",
   "execution_count": 80,
   "metadata": {},
   "outputs": [
    {
     "name": "stdout",
     "output_type": "stream",
     "text": [
      "Warning: Desired error not necessarily achieved due to precision loss.\n",
      "         Current function value: -161989.754630\n",
      "         Iterations: 13\n",
      "         Function evaluations: 798\n",
      "         Gradient evaluations: 131\n"
     ]
    },
    {
     "data": {
      "text/plain": [
       "      fun: -161989.754629627\n",
       " hess_inv: array([[ 2.62163512e-07,  5.64422492e-08, -1.99160007e-07,\n",
       "        -2.62163490e-07],\n",
       "       [ 5.64422492e-08,  3.50436651e-07,  2.23485470e-07,\n",
       "        -5.64422492e-08],\n",
       "       [-1.99160007e-07,  2.23485470e-07,  1.37751823e-05,\n",
       "         1.99160007e-07],\n",
       "       [-2.62163490e-07, -5.64422492e-08,  1.99160007e-07,\n",
       "         2.62163547e-07]])\n",
       "      jac: array([-0.00195312, -0.01171875,  0.        ,  0.        ])\n",
       "  message: 'Desired error not necessarily achieved due to precision loss.'\n",
       "     nfev: 798\n",
       "      nit: 13\n",
       "     njev: 131\n",
       "   status: 2\n",
       "  success: False\n",
       "        x: array([ 0.04533234, 10.01894705,  0.56787489,  0.14685202])"
      ]
     },
     "execution_count": 80,
     "metadata": {},
     "output_type": "execute_result"
    }
   ],
   "source": [
    "# same process for second peak\n",
    "m1_series = mass_series[(mass_series > 9.8) & (mass_series < 10.2)]\n",
    "x = np.array(m1_series)\n",
    "guess = np.array([0.04533419, 10.01894799, 0.56787207, 0.14685767])\n",
    "results = minimize(get_NLL, guess, method='BFGS', options={'disp': True})\n",
    "results"
   ]
  },
  {
   "cell_type": "code",
   "execution_count": 81,
   "metadata": {},
   "outputs": [
    {
     "data": {
      "text/plain": [
       "[<matplotlib.lines.Line2D at 0x256a8a72710>]"
      ]
     },
     "execution_count": 81,
     "metadata": {},
     "output_type": "execute_result"
    },
    {
     "data": {
      "image/png": "[encoded data removed]",
      "text/plain": [
       "<Figure size 432x288 with 1 Axes>"
      ]
     },
     "metadata": {
      "needs_background": "light"
     },
     "output_type": "display_data"
    }
   ],
   "source": [
    "# plot of second peak\n",
    "hist, bins, p = plt.hist(x, bins=100, density=True)\n",
    "sigmaf = results.x[0]\n",
    "muf = results.x[1]\n",
    "lamf = results.x[2]\n",
    "af = results.x[3]\n",
    "x_min = np.amin(x)\n",
    "x_max = np.amax(x)\n",
    "x_trial = np.linspace(x_min, x_max, 100)\n",
    "y = comp_func3(x_trial, sigmaf, muf, lamf, af)\n",
    "plt.xlabel('Invariant mass of muon pair / GeV/$c^2$')\n",
    "plt.ylabel('P')\n",
    "plt.plot(x_trial, y, c='r')"
   ]
  },
  {
   "cell_type": "code",
   "execution_count": 86,
   "metadata": {},
   "outputs": [
    {
     "name": "stdout",
     "output_type": "stream",
     "text": [
      "Warning: Desired error not necessarily achieved due to precision loss.\n",
      "         Current function value: -124862.383533\n",
      "         Iterations: 9\n",
      "         Function evaluations: 576\n",
      "         Gradient evaluations: 94\n"
     ]
    },
    {
     "data": {
      "text/plain": [
       "      fun: -124862.38353334299\n",
       " hess_inv: array([[ 2.54225360e-06, -9.91894406e-07, -8.39474320e-07,\n",
       "         1.23314199e-05],\n",
       "       [-9.91894406e-07,  1.66988824e-06, -1.08889548e-06,\n",
       "        -5.91460082e-06],\n",
       "       [-8.39474320e-07, -1.08889548e-06,  9.35361889e-06,\n",
       "        -2.45700228e-06],\n",
       "       [ 1.23314199e-05, -5.91460082e-06, -2.45700228e-06,\n",
       "         8.10201021e-05]])\n",
       "      jac: array([ 0.        , -0.00097656, -0.00097656,  0.00683594])\n",
       "  message: 'Desired error not necessarily achieved due to precision loss.'\n",
       "     nfev: 576\n",
       "      nit: 9\n",
       "     njev: 94\n",
       "   status: 2\n",
       "  success: False\n",
       "        x: array([ 0.04200767, 10.35028075,  0.53192849,  0.11352579])"
      ]
     },
     "execution_count": 86,
     "metadata": {},
     "output_type": "execute_result"
    }
   ],
   "source": [
    "# third peak\n",
    "m1_series = mass_series[(mass_series > 10.2) & (mass_series < 10.5)]\n",
    "x = np.array(m1_series)\n",
    "guess = np.array([0.04200804, 10.35027951, 0.53192649, 0.11352147])\n",
    "results = minimize(get_NLL, guess, method='BFGS', options={'disp': True})\n",
    "results"
   ]
  },
  {
   "cell_type": "code",
   "execution_count": 88,
   "metadata": {},
   "outputs": [
    {
     "data": {
      "text/plain": [
       "[<matplotlib.lines.Line2D at 0x256a9cd62e8>]"
      ]
     },
     "execution_count": 88,
     "metadata": {},
     "output_type": "execute_result"
    },
    {
     "data": {
      "image/png": "[encoded data removed]",
      "text/plain": [
       "<Figure size 432x288 with 1 Axes>"
      ]
     },
     "metadata": {
      "needs_background": "light"
     },
     "output_type": "display_data"
    }
   ],
   "source": [
    "# third peak\n",
    "hist, bins, p = plt.hist(x, bins=100, density=True)\n",
    "sigmaf = results.x[0]\n",
    "muf = results.x[1]\n",
    "lamf = results.x[2]\n",
    "af = results.x[3]\n",
    "x_min = np.amin(x)\n",
    "x_max = np.amax(x)\n",
    "x_trial = np.linspace(x_min, x_max, 100)\n",
    "y = comp_func3(x_trial, sigmaf, muf, lamf, af)\n",
    "plt.xlabel('Invariant mass of muon pair / GeV/$c^2$')\n",
    "plt.ylabel('P')\n",
    "plt.plot(x_trial, y, c='r')"
   ]
  },
  {
   "cell_type": "code",
   "execution_count": 63,
   "metadata": {},
   "outputs": [],
   "source": [
    "# new fitting functions for combined PDF of three peaks\n",
    "def comp_func_full(x, sigma1, mu1, sigma2, mu2, sigma3, mu3, lam, a1, a2, a3):\n",
    "    # return full PDF\n",
    "    gaussian1 = (1/(sigma1*(2*np.pi)**0.5)) * np.exp(-0.5*((x-mu1)/sigma1)**2)\n",
    "    gaussian2 = (1/(sigma2*(2*np.pi)**0.5)) * np.exp(-0.5*((x-mu2)/sigma2)**2)\n",
    "    gaussian3 = (1/(sigma3*(2*np.pi)**0.5)) * np.exp(-0.5*((x-mu3)/sigma3)**2)\n",
    "    exponential = (-lam / (np.exp(-1*lam*np.amax(x)) - np.exp(-1*lam*np.amin(x)))) * np.exp(-1*lam*x)\n",
    "    func = a1 * gaussian1 + a2 * gaussian2 + a3 * gaussian3 + (1 - a1 - a2 - a3) * exponential\n",
    "    return func"
   ]
  },
  {
   "cell_type": "code",
   "execution_count": 64,
   "metadata": {},
   "outputs": [],
   "source": [
    "def get_NLL_full(params):\n",
    "    # return NLL of full sample data for PDF\n",
    "    sigma1, mu1, sigma2, mu2, sigma3, mu3, lam, a1, a2, a3 = params[0], params[1], params[2], params[3], params[4], params[5], params[6], params[7], params[8], params[9]\n",
    "    p_given_params = comp_func_full(x, sigma1, mu1, sigma2, mu2, sigma3, mu3, lam, a1, a2, a3)\n",
    "    #p_given_params = (1/(sigma*(2*np.pi)**0.5)) * np.exp(-0.5*((x-mu)/sigma)**2)\n",
    "\n",
    "    NLL = -np.sum(np.log(p_given_params))\n",
    "    \n",
    "    return NLL"
   ]
  },
  {
   "cell_type": "code",
   "execution_count": 132,
   "metadata": {},
   "outputs": [
    {
     "name": "stdout",
     "output_type": "stream",
     "text": [
      "Optimization terminated successfully.\n",
      "         Current function value: 530312.445613\n",
      "         Iterations: 188\n",
      "         Function evaluations: 310\n"
     ]
    },
    {
     "data": {
      "text/plain": [
       " final_simplex: (array([[ 0.04301094,  9.45606411,  0.04595628, 10.01921073,  0.04663122,\n",
       "        10.35097279,  0.59273821,  0.11544255,  0.02797617,  0.01413248],\n",
       "       [ 0.04301186,  9.45606293,  0.04595327, 10.01921031,  0.04662453,\n",
       "        10.35097683,  0.5927384 ,  0.11544155,  0.02797531,  0.01413208],\n",
       "       [ 0.04301192,  9.456063  ,  0.0459543 , 10.01920557,  0.04662385,\n",
       "        10.3509802 ,  0.59273433,  0.11544373,  0.02797635,  0.01412886],\n",
       "       [ 0.04301131,  9.4560636 ,  0.04595753, 10.01920886,  0.04663418,\n",
       "        10.35098086,  0.59273929,  0.11544108,  0.02797764,  0.0141343 ],\n",
       "       [ 0.04301244,  9.45606244,  0.04595414, 10.01920664,  0.04663136,\n",
       "        10.35097689,  0.59272158,  0.11544125,  0.0279732 ,  0.01413018],\n",
       "       [ 0.04301113,  9.45606321,  0.04595587, 10.01921332,  0.04663118,\n",
       "        10.35098189,  0.59275331,  0.1154412 ,  0.02797645,  0.01413241],\n",
       "       [ 0.04301145,  9.45606187,  0.04595766, 10.01920913,  0.04663795,\n",
       "        10.3509713 ,  0.59274447,  0.11544444,  0.02797794,  0.01413237],\n",
       "       [ 0.04301293,  9.45606379,  0.04595788, 10.01920647,  0.0466345 ,\n",
       "        10.35098227,  0.59275414,  0.11544051,  0.02797684,  0.01413347],\n",
       "       [ 0.04301386,  9.45606329,  0.04595999, 10.0192131 ,  0.04663   ,\n",
       "        10.35097446,  0.59274395,  0.11544502,  0.02797955,  0.01413294],\n",
       "       [ 0.0430135 ,  9.45606328,  0.04595074, 10.01920112,  0.04663369,\n",
       "        10.35098149,  0.59273276,  0.11544788,  0.02797645,  0.01413248],\n",
       "       [ 0.04301219,  9.45606307,  0.0459593 , 10.01920624,  0.04662283,\n",
       "        10.35097715,  0.59273848,  0.11544864,  0.02797625,  0.01413177]]), array([530312.44561271, 530312.44561384, 530312.44561593, 530312.44561762,\n",
       "       530312.44562976, 530312.44563573, 530312.44565574, 530312.44565626,\n",
       "       530312.44568708, 530312.44569359, 530312.44569996]))\n",
       "           fun: 530312.4456127078\n",
       "       message: 'Optimization terminated successfully.'\n",
       "          nfev: 310\n",
       "           nit: 188\n",
       "        status: 0\n",
       "       success: True\n",
       "             x: array([ 0.04301094,  9.45606411,  0.04595628, 10.01921073,  0.04663122,\n",
       "       10.35097279,  0.59273821,  0.11544255,  0.02797617,  0.01413248])"
      ]
     },
     "execution_count": 132,
     "metadata": {},
     "output_type": "execute_result"
    }
   ],
   "source": [
    "# reset x to full mass sample data\n",
    "x = mass_series\n",
    "guess_full = np.array([0.04301244, 9.45606244, 0.04595414, 10.01920664, 0.04663136, 10.35097689, 0.59272158, 0.11544125, 0.0279732, 0.01413018])\n",
    "results_full = minimize(get_NLL_full, guess_full, method='Nelder-Mead', options={'disp': True})\n",
    "results_full"
   ]
  },
  {
   "cell_type": "code",
   "execution_count": 133,
   "metadata": {},
   "outputs": [
    {
     "data": {
      "text/plain": [
       "[<matplotlib.lines.Line2D at 0x2569be612b0>]"
      ]
     },
     "execution_count": 133,
     "metadata": {},
     "output_type": "execute_result"
    },
    {
     "data": {
      "image/png": "[encoded data removed]",
      "text/plain": [
       "<Figure size 432x288 with 1 Axes>"
      ]
     },
     "metadata": {
      "needs_background": "light"
     },
     "output_type": "display_data"
    }
   ],
   "source": [
    "# results gave bes-estimates of parameters\n",
    "hist, bins, p = plt.hist(x, bins=1000, density=True)\n",
    "\n",
    "sigma1f = results_full.x[0]\n",
    "mu1f = results_full.x[1]\n",
    "\n",
    "sigma2f = results_full.x[2]\n",
    "mu2f = results_full.x[3]\n",
    "\n",
    "sigma3f = results_full.x[4]\n",
    "mu3f = results_full.x[5]\n",
    "\n",
    "lamf = results_full.x[6]\n",
    "\n",
    "a1f = results_full.x[7]\n",
    "a2f = results_full.x[8]\n",
    "a3f = results_full.x[9]\n",
    "\n",
    "x_min = np.amin(x)\n",
    "x_max = np.amax(x)\n",
    "x_trial = np.linspace(x_min, x_max, 1000)\n",
    "y = comp_func_full(x_trial, sigma1f, mu1f, sigma2f, mu2f, sigma3f, mu3f, lamf, a1f, a2f, a3f)\n",
    "plt.xlabel('Invariant mass of muon pair / GeV/$c^2$')\n",
    "plt.ylabel('P')\n",
    "plt.plot(x_trial, y, c='r')"
   ]
  },
  {
   "cell_type": "code",
   "execution_count": 144,
   "metadata": {},
   "outputs": [
    {
     "data": {
      "text/plain": [
       "<matplotlib.collections.PathCollection at 0x256b8609198>"
      ]
     },
     "execution_count": 144,
     "metadata": {},
     "output_type": "execute_result"
    },
    {
     "data": {
      "image/png": "[encoded data removed]",
      "text/plain": [
       "<Figure size 432x288 with 1 Axes>"
      ]
     },
     "metadata": {
      "needs_background": "light"
     },
     "output_type": "display_data"
    }
   ],
   "source": [
    "# plot residuals after determining bin centres\n",
    "bins_width = bins[1] - bins[0]\n",
    "res_x_trial = (bins + 0.5 * bins_width)[:-1]\n",
    "res_y = hist - comp_func_full(res_x_trial, sigma1f, mu1f, sigma2f, mu2f, sigma3f, mu3f, lamf, a1f, a2f, a3f)\n",
    "plt.xlabel('Invariant mass of muon pair / GeV/$c^2$')\n",
    "plt.ylabel('Residual P')\n",
    "plt.scatter(res_x_trial, res_y, linewidths=0.01)"
   ]
  },
  {
   "cell_type": "code",
   "execution_count": null,
   "metadata": {},
   "outputs": [],
   "source": []
  }
 ],
 "metadata": {
  "kernelspec": {
   "display_name": "Python 3 (ipykernel)",
   "language": "python",
   "name": "python3"
  },
  "language_info": {
   "codemirror_mode": {
    "name": "ipython",
    "version": 3
   },
   "file_extension": ".py",
   "mimetype": "text/x-python",
   "name": "python",
   "nbconvert_exporter": "python",
   "pygments_lexer": "ipython3",
   "version": "3.7.11"
  }
 },
 "nbformat": 4,
 "nbformat_minor": 4
}
